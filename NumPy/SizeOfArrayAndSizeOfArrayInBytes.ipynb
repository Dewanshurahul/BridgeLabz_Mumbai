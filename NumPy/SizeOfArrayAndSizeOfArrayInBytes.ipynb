{
 "cells": [
  {
   "cell_type": "code",
   "execution_count": 1,
   "metadata": {},
   "outputs": [],
   "source": [
    "# Importing NumPy Package\n",
    "import numpy as np"
   ]
  },
  {
   "cell_type": "code",
   "execution_count": 2,
   "metadata": {},
   "outputs": [
    {
     "name": "stdout",
     "output_type": "stream",
     "text": [
      "Size of Array 3\n",
      "Size of each Element of Array 8\n",
      "Size of Element in Bytes: 24\n"
     ]
    }
   ],
   "source": [
    "numpyArray = np.array([32,45,78])\n",
    "print('Size of Array ' + str(np.size(numpyArray)))\n",
    "print('Size of each Element of Array ' + str(numpyArray[0].nbytes))\n",
    "print('Size of Element in Bytes: ' + str(numpyArray.nbytes))"
   ]
  },
  {
   "cell_type": "code",
   "execution_count": null,
   "metadata": {},
   "outputs": [],
   "source": []
  }
 ],
 "metadata": {
  "kernelspec": {
   "display_name": "Python 3",
   "language": "python",
   "name": "python3"
  },
  "language_info": {
   "codemirror_mode": {
    "name": "ipython",
    "version": 3
   },
   "file_extension": ".py",
   "mimetype": "text/x-python",
   "name": "python",
   "nbconvert_exporter": "python",
   "pygments_lexer": "ipython3",
   "version": "3.7.4"
  }
 },
 "nbformat": 4,
 "nbformat_minor": 2
}
