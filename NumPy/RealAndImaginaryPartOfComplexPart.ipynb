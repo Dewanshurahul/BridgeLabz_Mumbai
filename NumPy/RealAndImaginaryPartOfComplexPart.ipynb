{
 "cells": [
  {
   "cell_type": "code",
   "execution_count": 1,
   "metadata": {},
   "outputs": [],
   "source": [
    "# Importing NumPy Array\n",
    "import numpy as np"
   ]
  },
  {
   "cell_type": "code",
   "execution_count": 4,
   "metadata": {},
   "outputs": [
    {
     "name": "stdout",
     "output_type": "stream",
     "text": [
      "[1.70710678]\n",
      "[0.70710678]\n"
     ]
    }
   ],
   "source": [
    "# Given a complex Type Array\n",
    "originalArray = np.array([ 1.00000000+0.j + 0.70710678+0.70710678j])\n",
    "\n",
    "# Print Real Part of the Given Complex Array\n",
    "print(np.real(originalArray))\n",
    "\n",
    "# Print Imaginary Part of the Given Complex Array\n",
    "print(np.imag(originalArray))"
   ]
  }
 ],
 "metadata": {
  "kernelspec": {
   "display_name": "Python 3",
   "language": "python",
   "name": "python3"
  },
  "language_info": {
   "codemirror_mode": {
    "name": "ipython",
    "version": 3
   },
   "file_extension": ".py",
   "mimetype": "text/x-python",
   "name": "python",
   "nbconvert_exporter": "python",
   "pygments_lexer": "ipython3",
   "version": "3.7.4"
  }
 },
 "nbformat": 4,
 "nbformat_minor": 2
}
