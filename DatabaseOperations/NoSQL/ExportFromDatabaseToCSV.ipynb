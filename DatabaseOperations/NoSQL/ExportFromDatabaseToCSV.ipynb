{
 "cells": [
  {
   "cell_type": "code",
   "execution_count": 1,
   "metadata": {},
   "outputs": [],
   "source": [
    "from pymongo import MongoClient"
   ]
  },
  {
   "cell_type": "code",
   "execution_count": 2,
   "metadata": {},
   "outputs": [],
   "source": [
    "client = MongoClient()"
   ]
  },
  {
   "cell_type": "code",
   "execution_count": 3,
   "metadata": {},
   "outputs": [],
   "source": [
    "db = client.sample"
   ]
  },
  {
   "cell_type": "code",
   "execution_count": 4,
   "metadata": {},
   "outputs": [
    {
     "name": "stdout",
     "output_type": "stream",
     "text": [
      "{'_id': ObjectId('5e6b270b92761204287380cc'), 'Id': 1, 'Name': 'Dewanshu Rahul', 'Phone': 987758477, 'Age': 23, 'Address': 'Madhubani'}\n",
      "{'_id': ObjectId('5e6b270b92761204287380cd'), 'Id': 2, 'Name': 'Nikhil', 'Phone': 877031367, 'Age': 22, 'Address': 'Bhilai'}\n",
      "{'_id': ObjectId('5e6b270b92761204287380ce'), 'Id': 3, 'Name': 'Nilesh', 'Phone': 987654321, 'Age': 24, 'Address': 'Indor'}\n"
     ]
    }
   ],
   "source": [
    "for data in db.data.find():\n",
    "    print(data)"
   ]
  },
  {
   "cell_type": "code",
   "execution_count": 5,
   "metadata": {},
   "outputs": [],
   "source": [
    "import pandas as pd"
   ]
  },
  {
   "cell_type": "code",
   "execution_count": 6,
   "metadata": {},
   "outputs": [],
   "source": [
    "df = pd.DataFrame(list(db.data.find()))"
   ]
  },
  {
   "cell_type": "code",
   "execution_count": 7,
   "metadata": {},
   "outputs": [
    {
     "data": {
      "text/html": [
       "<div>\n",
       "<style scoped>\n",
       "    .dataframe tbody tr th:only-of-type {\n",
       "        vertical-align: middle;\n",
       "    }\n",
       "\n",
       "    .dataframe tbody tr th {\n",
       "        vertical-align: top;\n",
       "    }\n",
       "\n",
       "    .dataframe thead th {\n",
       "        text-align: right;\n",
       "    }\n",
       "</style>\n",
       "<table border=\"1\" class=\"dataframe\">\n",
       "  <thead>\n",
       "    <tr style=\"text-align: right;\">\n",
       "      <th></th>\n",
       "      <th>_id</th>\n",
       "      <th>Id</th>\n",
       "      <th>Name</th>\n",
       "      <th>Phone</th>\n",
       "      <th>Age</th>\n",
       "      <th>Address</th>\n",
       "    </tr>\n",
       "  </thead>\n",
       "  <tbody>\n",
       "    <tr>\n",
       "      <td>0</td>\n",
       "      <td>5e6b270b92761204287380cc</td>\n",
       "      <td>1</td>\n",
       "      <td>Dewanshu Rahul</td>\n",
       "      <td>987758477</td>\n",
       "      <td>23</td>\n",
       "      <td>Madhubani</td>\n",
       "    </tr>\n",
       "    <tr>\n",
       "      <td>1</td>\n",
       "      <td>5e6b270b92761204287380cd</td>\n",
       "      <td>2</td>\n",
       "      <td>Nikhil</td>\n",
       "      <td>877031367</td>\n",
       "      <td>22</td>\n",
       "      <td>Bhilai</td>\n",
       "    </tr>\n",
       "    <tr>\n",
       "      <td>2</td>\n",
       "      <td>5e6b270b92761204287380ce</td>\n",
       "      <td>3</td>\n",
       "      <td>Nilesh</td>\n",
       "      <td>987654321</td>\n",
       "      <td>24</td>\n",
       "      <td>Indor</td>\n",
       "    </tr>\n",
       "  </tbody>\n",
       "</table>\n",
       "</div>"
      ],
      "text/plain": [
       "                        _id  Id            Name      Phone  Age    Address\n",
       "0  5e6b270b92761204287380cc   1  Dewanshu Rahul  987758477   23  Madhubani\n",
       "1  5e6b270b92761204287380cd   2          Nikhil  877031367   22     Bhilai\n",
       "2  5e6b270b92761204287380ce   3          Nilesh  987654321   24      Indor"
      ]
     },
     "execution_count": 7,
     "metadata": {},
     "output_type": "execute_result"
    }
   ],
   "source": [
    "df"
   ]
  },
  {
   "cell_type": "code",
   "execution_count": 9,
   "metadata": {},
   "outputs": [],
   "source": [
    "if '_id' in df:\n",
    "    del df['_id']"
   ]
  },
  {
   "cell_type": "code",
   "execution_count": 10,
   "metadata": {},
   "outputs": [
    {
     "data": {
      "text/html": [
       "<div>\n",
       "<style scoped>\n",
       "    .dataframe tbody tr th:only-of-type {\n",
       "        vertical-align: middle;\n",
       "    }\n",
       "\n",
       "    .dataframe tbody tr th {\n",
       "        vertical-align: top;\n",
       "    }\n",
       "\n",
       "    .dataframe thead th {\n",
       "        text-align: right;\n",
       "    }\n",
       "</style>\n",
       "<table border=\"1\" class=\"dataframe\">\n",
       "  <thead>\n",
       "    <tr style=\"text-align: right;\">\n",
       "      <th></th>\n",
       "      <th>Id</th>\n",
       "      <th>Name</th>\n",
       "      <th>Phone</th>\n",
       "      <th>Age</th>\n",
       "      <th>Address</th>\n",
       "    </tr>\n",
       "  </thead>\n",
       "  <tbody>\n",
       "    <tr>\n",
       "      <td>0</td>\n",
       "      <td>1</td>\n",
       "      <td>Dewanshu Rahul</td>\n",
       "      <td>987758477</td>\n",
       "      <td>23</td>\n",
       "      <td>Madhubani</td>\n",
       "    </tr>\n",
       "    <tr>\n",
       "      <td>1</td>\n",
       "      <td>2</td>\n",
       "      <td>Nikhil</td>\n",
       "      <td>877031367</td>\n",
       "      <td>22</td>\n",
       "      <td>Bhilai</td>\n",
       "    </tr>\n",
       "    <tr>\n",
       "      <td>2</td>\n",
       "      <td>3</td>\n",
       "      <td>Nilesh</td>\n",
       "      <td>987654321</td>\n",
       "      <td>24</td>\n",
       "      <td>Indor</td>\n",
       "    </tr>\n",
       "  </tbody>\n",
       "</table>\n",
       "</div>"
      ],
      "text/plain": [
       "   Id            Name      Phone  Age    Address\n",
       "0   1  Dewanshu Rahul  987758477   23  Madhubani\n",
       "1   2          Nikhil  877031367   22     Bhilai\n",
       "2   3          Nilesh  987654321   24      Indor"
      ]
     },
     "execution_count": 10,
     "metadata": {},
     "output_type": "execute_result"
    }
   ],
   "source": [
    "df"
   ]
  },
  {
   "cell_type": "code",
   "execution_count": 12,
   "metadata": {},
   "outputs": [],
   "source": [
    "df.to_csv('/home/admin1/Desktop/Experiment/MongoExport.csv', sep=',')"
   ]
  },
  {
   "cell_type": "code",
   "execution_count": null,
   "metadata": {},
   "outputs": [],
   "source": []
  }
 ],
 "metadata": {
  "kernelspec": {
   "display_name": "Python 3",
   "language": "python",
   "name": "python3"
  },
  "language_info": {
   "codemirror_mode": {
    "name": "ipython",
    "version": 3
   },
   "file_extension": ".py",
   "mimetype": "text/x-python",
   "name": "python",
   "nbconvert_exporter": "python",
   "pygments_lexer": "ipython3",
   "version": "3.7.4"
  }
 },
 "nbformat": 4,
 "nbformat_minor": 2
}
