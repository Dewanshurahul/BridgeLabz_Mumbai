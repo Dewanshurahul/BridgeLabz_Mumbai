{
 "cells": [
  {
   "cell_type": "code",
   "execution_count": 1,
   "metadata": {},
   "outputs": [],
   "source": [
    "import csv\n",
    "import pymysql"
   ]
  },
  {
   "cell_type": "code",
   "execution_count": 2,
   "metadata": {},
   "outputs": [],
   "source": [
    "db_connection = pymysql.connect(host=\"localhost\", user=\"admin1\", passwd=\"!@aA12345\", database=\"SAMPLEDB\")\n",
    "db_cursor = db_connection.cursor()"
   ]
  },
  {
   "cell_type": "code",
   "execution_count": 3,
   "metadata": {},
   "outputs": [
    {
     "name": "stdout",
     "output_type": "stream",
     "text": [
      "['Id', 'Name', 'Phone', 'Age', 'Address']\n",
      "['1', 'Dewanshu Rahul', '987758477', '23', 'Madhubani']\n",
      "['2', 'Nikhil', '877031367', '22', 'Bhilai']\n",
      "['3', 'Nilesh', '987654321', '24', 'Indor']\n"
     ]
    }
   ],
   "source": [
    "with open('/home/admin1/Desktop/Experiment/Data.csv', 'r') as file:\n",
    "    data = csv.reader(file)\n",
    "# data = csv.reader('/home/admin1/Desktop/Experiment/Data.csv')\n",
    "    for d in data:\n",
    "        print(d)"
   ]
  },
  {
   "cell_type": "code",
   "execution_count": 7,
   "metadata": {
    "scrolled": true
   },
   "outputs": [
    {
     "name": "stdout",
     "output_type": "stream",
     "text": [
      "['1', 'Dewanshu Rahul', '987758477', '23', 'Madhubani']\n",
      "['2', 'Nikhil', '877031367', '22', 'Bhilai']\n",
      "['3', 'Nilesh', '987654321', '24', 'Indor']\n"
     ]
    }
   ],
   "source": [
    "lst = []\n",
    "with open('/home/admin1/Desktop/Experiment/Data.csv', 'r') as file:\n",
    "    data = csv.reader(file)\n",
    "    for dat in data:\n",
    "        lst.append(dat)\n",
    "    for row in lst[1:]:\n",
    "        print(row)\n",
    "        query = 'insert into DATA values(\"%s\",\"%s\",\"%s\",\"%s\",\"%s\");' % (row[0], row[1], row[2], row[3], row[4])\n",
    "        db_cursor.execute(query)\n",
    "        db_connection.commit()"
   ]
  },
  {
   "cell_type": "code",
   "execution_count": null,
   "metadata": {
    "scrolled": true
   },
   "outputs": [],
   "source": []
  },
  {
   "cell_type": "code",
   "execution_count": null,
   "metadata": {},
   "outputs": [],
   "source": []
  }
 ],
 "metadata": {
  "kernelspec": {
   "display_name": "Python 3",
   "language": "python",
   "name": "python3"
  },
  "language_info": {
   "codemirror_mode": {
    "name": "ipython",
    "version": 3
   },
   "file_extension": ".py",
   "mimetype": "text/x-python",
   "name": "python",
   "nbconvert_exporter": "python",
   "pygments_lexer": "ipython3",
   "version": "3.7.4"
  }
 },
 "nbformat": 4,
 "nbformat_minor": 2
}
