{
 "cells": [
  {
   "cell_type": "code",
   "execution_count": 1,
   "metadata": {},
   "outputs": [],
   "source": [
    "import matplotlib.pyplot as plt\n",
    "import datetime as DT\n",
    "from matplotlib.dates import date2num"
   ]
  },
  {
   "cell_type": "code",
   "execution_count": 2,
   "metadata": {},
   "outputs": [],
   "source": [
    "data = [(DT.datetime.strptime('2016-10-03', \"%Y-%m-%d\"), 772.559998),\n",
    "        (DT.datetime.strptime('2016-10-04', \"%Y-%m-%d\"), 776.429993),\n",
    "        (DT.datetime.strptime('2016-10-05', \"%Y-%m-%d\"), 776.469971),\n",
    "        (DT.datetime.strptime('2016-10-06', \"%Y-%m-%d\"), 776.859985),\n",
    "        (DT.datetime.strptime('2016-10-07', \"%Y-%m-%d\"), 775.080017 )]"
   ]
  },
  {
   "cell_type": "code",
   "execution_count": 3,
   "metadata": {},
   "outputs": [],
   "source": [
    "x = [date2num(date) for (date, value) in data]\n",
    "y = [value for (date, value) in data]\n"
   ]
  },
  {
   "cell_type": "code",
   "execution_count": 4,
   "metadata": {},
   "outputs": [
    {
     "data": {
      "text/plain": [
       "[Text(0, 0, '2016-10-03'),\n",
       " Text(0, 0, '2016-10-04'),\n",
       " Text(0, 0, '2016-10-05'),\n",
       " Text(0, 0, '2016-10-06'),\n",
       " Text(0, 0, '2016-10-07')]"
      ]
     },
     "execution_count": 4,
     "metadata": {},
     "output_type": "execute_result"
    },
    {
     "data": {
      "image/png": "[encoded data removed]",
      "text/plain": [
       "<Figure size 432x288 with 1 Axes>"
      ]
     },
     "metadata": {
      "needs_background": "light"
     },
     "output_type": "display_data"
    }
   ],
   "source": [
    "fig = plt.figure()\n",
    "graph = fig.add_subplot(111)\n",
    "graph.plot(x,y,'r-o')\n",
    "graph.set_xticks(x)\n",
    "graph.set_xticklabels(\n",
    "        [date.strftime(\"%Y-%m-%d\") for (date, value) in data]\n",
    "        )"
   ]
  }
 ],
 "metadata": {
  "kernelspec": {
   "display_name": "Python 3",
   "language": "python",
   "name": "python3"
  },
  "language_info": {
   "codemirror_mode": {
    "name": "ipython",
    "version": 3
   },
   "file_extension": ".py",
   "mimetype": "text/x-python",
   "name": "python",
   "nbconvert_exporter": "python",
   "pygments_lexer": "ipython3",
   "version": "3.7.4"
  }
 },
 "nbformat": 4,
 "nbformat_minor": 2
}
