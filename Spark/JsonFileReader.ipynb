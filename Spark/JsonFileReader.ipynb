{
 "cells": [
  {
   "cell_type": "code",
   "execution_count": 3,
   "metadata": {},
   "outputs": [],
   "source": [
    "from pyspark.sql.functions import hour,minute,second,col,avg,when\n",
    "from pyspark import SparkContext\n",
    "import pyspark.sql.functions as sql_functions\n",
    "from pyspark.sql import SQLContext\n",
    "import datetime"
   ]
  },
  {
   "cell_type": "code",
   "execution_count": 7,
   "metadata": {},
   "outputs": [],
   "source": [
    "sc = SparkContext()\n",
    "sqlContext = SQLContext(sc)"
   ]
  },
  {
   "cell_type": "code",
   "execution_count": 8,
   "metadata": {},
   "outputs": [],
   "source": [
    "df = sqlContext.read.json(\"hdfs://localhost:54310/spark/JsonFile.json\",multiLine=True)"
   ]
  },
  {
   "cell_type": "code",
   "execution_count": 9,
   "metadata": {},
   "outputs": [
    {
     "name": "stdout",
     "output_type": "stream",
     "text": [
      "+--------------------+----------+------+---+--------------+---------+\n",
      "|               email|first_name|gender| id|    ip_address|last_name|\n",
      "+--------------------+----------+------+---+--------------+---------+\n",
      "|jpenddreth0@censu...|  Jeanette|Female|  1|   26.58.193.2|Penddreth|\n",
      "|gfrediani1@senate...|   Giavani|  Male|  2| 229.179.4.212| Frediani|\n",
      "| nbea2@imageshack.us|     Noell|Female|  3|180.66.162.255|      Bea|\n",
      "|      wvalek3@vk.com|   Willard|  Male|  4|  67.76.188.26|    Valek|\n",
      "+--------------------+----------+------+---+--------------+---------+\n",
      "\n"
     ]
    }
   ],
   "source": [
    "df.show()\n",
    "sc.stop()"
   ]
  },
  {
   "cell_type": "code",
   "execution_count": null,
   "metadata": {},
   "outputs": [],
   "source": []
  }
 ],
 "metadata": {
  "kernelspec": {
   "display_name": "Python 3",
   "language": "python",
   "name": "python3"
  },
  "language_info": {
   "codemirror_mode": {
    "name": "ipython",
    "version": 3
   },
   "file_extension": ".py",
   "mimetype": "text/x-python",
   "name": "python",
   "nbconvert_exporter": "python",
   "pygments_lexer": "ipython3",
   "version": "3.7.6"
  }
 },
 "nbformat": 4,
 "nbformat_minor": 4
}
