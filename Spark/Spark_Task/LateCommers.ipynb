{
 "cells": [
  {
   "cell_type": "code",
   "execution_count": 1,
   "metadata": {},
   "outputs": [],
   "source": [
    "from pyspark.sql.functions import hour,minute,second,col,avg,when\n",
    "from pyspark import SparkContext\n",
    "import pyspark.sql.functions as sql_functions\n",
    "from pyspark.sql import SQLContext\n",
    "import datetime"
   ]
  },
  {
   "cell_type": "code",
   "execution_count": 2,
   "metadata": {},
   "outputs": [],
   "source": [
    "sc = SparkContext()\n",
    "sqlContext = SQLContext(sc)"
   ]
  },
  {
   "cell_type": "code",
   "execution_count": 3,
   "metadata": {},
   "outputs": [
    {
     "name": "stdout",
     "output_type": "stream",
     "text": [
      "+--------------------+-------------------+-------------------+-------------------+-------------------+\n",
      "|           user_name|          idle_time|      working_hours|         start_time|           end_time|\n",
      "+--------------------+-------------------+-------------------+-------------------+-------------------+\n",
      "|  sahil24c@gmail.com|2019-10-24 05:05:00|2019-10-24 05:50:00|2019-10-24 08:30:02|2019-10-24 19:25:02|\n",
      "|magadum.iranna@gm...|2019-10-24 02:15:00|2019-10-24 08:39:59|2019-10-24 08:30:02|2019-10-24 19:25:01|\n",
      "|  yathink3@gmail.com|2019-10-24 01:30:00|2019-10-24 09:24:59|2019-10-24 08:30:02|2019-10-24 19:25:01|\n",
      "|  shelkeva@gmail.com|2019-10-24 00:30:00|2019-10-24 09:10:01|2019-10-24 08:45:01|2019-10-24 18:25:02|\n",
      "|puruissimple@gmai...|2019-10-24 03:15:00|2019-10-24 07:19:59|2019-10-24 08:50:02|2019-10-24 19:25:01|\n",
      "|sangita.awaghad19...|2019-10-24 01:55:00|2019-10-24 08:40:00|2019-10-24 08:50:01|2019-10-24 19:25:01|\n",
      "|vaishusawant143@g...|2019-10-24 00:35:00|2019-10-24 09:55:00|2019-10-24 08:55:01|2019-10-24 19:25:01|\n",
      "|     you@example.com|2019-10-24 02:35:00|2019-10-24 08:04:59|2019-10-24 08:45:02|2019-10-24 19:25:01|\n",
      "|samadhanmahajan73...|2019-10-24 01:10:00|2019-10-24 08:39:59|2019-10-24 09:00:02|2019-10-24 18:50:01|\n",
      "|vishnu23kumar@gma...|2019-10-24 04:15:00|2019-10-24 06:10:00|2019-10-24 09:00:01|2019-10-24 19:25:01|\n",
      "|ashutoshrit64@gma...|2019-10-24 00:00:00|2019-10-24 10:25:01|2019-10-24 09:00:01|2019-10-24 19:25:02|\n",
      "|akshaybavalekar10...|2019-10-24 01:45:00|2019-10-24 08:35:00|2019-10-24 09:05:01|2019-10-24 19:25:01|\n",
      "|khairnarswapna99@...|2019-10-24 00:50:00|2019-10-24 09:25:00|2019-10-24 09:10:01|2019-10-24 19:25:01|\n",
      "|kukadeshilpaa7m95...|2019-10-24 00:35:00|2019-10-24 09:40:00|2019-10-24 09:10:01|2019-10-24 19:25:01|\n",
      "|sarikabarge111@gm...|2019-10-24 01:20:00|2019-10-24 08:45:00|2019-10-24 09:10:01|2019-10-24 19:15:01|\n",
      "|narsimharaj.kasu0...|2019-10-24 02:05:00|2019-10-24 08:05:00|2019-10-24 09:10:01|2019-10-24 19:20:01|\n",
      "|antonyalexcm@gmai...|2019-10-24 00:00:00|2019-10-24 10:15:00|2019-10-24 09:10:01|2019-10-24 19:25:01|\n",
      "|jitupatil937@gmai...|2019-10-24 00:55:00|2019-10-24 09:20:00|2019-10-24 09:10:01|2019-10-24 19:25:01|\n",
      "|akshaypatwari24@g...|2019-10-24 01:10:00|2019-10-24 09:05:00|2019-10-24 09:10:01|2019-10-24 19:25:01|\n",
      "|aheteshams007@gma...|2019-10-24 01:35:00|2019-10-24 08:50:01|2019-10-24 09:00:01|2019-10-24 19:25:02|\n",
      "+--------------------+-------------------+-------------------+-------------------+-------------------+\n",
      "only showing top 20 rows\n",
      "\n"
     ]
    }
   ],
   "source": [
    "df = sqlContext.read.csv(\"hdfs://localhost:54310/spark/usr_log_data.csv\",header=True,inferSchema = True)\n",
    "df.show()"
   ]
  },
  {
   "cell_type": "code",
   "execution_count": 4,
   "metadata": {},
   "outputs": [
    {
     "data": {
      "text/plain": [
       "50"
      ]
     },
     "execution_count": 4,
     "metadata": {},
     "output_type": "execute_result"
    }
   ],
   "source": [
    "late_commers = df.filter(sql_functions.col('start_time') > '2019-10-24 09:30:02')\n",
    "late_commers.count()"
   ]
  },
  {
   "cell_type": "code",
   "execution_count": 5,
   "metadata": {},
   "outputs": [
    {
     "name": "stdout",
     "output_type": "stream",
     "text": [
      "+--------------------+\n",
      "|           user_name|\n",
      "+--------------------+\n",
      "|  rr582619@gmail.con|\n",
      "| addyp1911@gmail.com|\n",
      "|rohitsarate1027@g...|\n",
      "|dipakalagate1991@...|\n",
      "|shibadattanayak@g...|\n",
      "|durganath123@outl...|\n",
      "|vaibhavkhadke@gma...|\n",
      "|gaikwadr576@gmail...|\n",
      "|kalyani24deobhank...|\n",
      "|dilipsoni199566@g...|\n",
      "|surajwarbhuvan192...|\n",
      "|tekina.makin@gmai...|\n",
      "|priyankagandhi250...|\n",
      "|mishrasushil889@g...|\n",
      "| blsonalib@gmail.com|\n",
      "|manoj.ks.24.mk@gm...|\n",
      "|hakepratiksha55@g...|\n",
      "|vaibhavpratihar17...|\n",
      "|rawatabhishek2012...|\n",
      "|indrajeetgajbhiye...|\n",
      "+--------------------+\n",
      "only showing top 20 rows\n",
      "\n"
     ]
    }
   ],
   "source": [
    "late_commers.select('user_name').show()"
   ]
  },
  {
   "cell_type": "code",
   "execution_count": null,
   "metadata": {},
   "outputs": [],
   "source": []
  }
 ],
 "metadata": {
  "kernelspec": {
   "display_name": "Python 3",
   "language": "python",
   "name": "python3"
  },
  "language_info": {
   "codemirror_mode": {
    "name": "ipython",
    "version": 3
   },
   "file_extension": ".py",
   "mimetype": "text/x-python",
   "name": "python",
   "nbconvert_exporter": "python",
   "pygments_lexer": "ipython3",
   "version": "3.7.6"
  }
 },
 "nbformat": 4,
 "nbformat_minor": 4
}
