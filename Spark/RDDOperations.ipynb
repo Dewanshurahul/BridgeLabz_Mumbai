{
 "cells": [
  {
   "cell_type": "code",
   "execution_count": 1,
   "metadata": {},
   "outputs": [],
   "source": [
    "from pyspark import SparkContext"
   ]
  },
  {
   "cell_type": "code",
   "execution_count": 5,
   "metadata": {},
   "outputs": [
    {
     "data": {
      "text/plain": [
       "14"
      ]
     },
     "execution_count": 5,
     "metadata": {},
     "output_type": "execute_result"
    }
   ],
   "source": [
    "sc = SparkContext()\n",
    "data = sc.parallelize ([\"scala\",\"java\",\"dewanshu\",\"spark\",\"python\",\"rahul\",\"varun\",\"niharika\",\"santoshi\",\"akanksha\",\"utkarsh\",\"marvin\",\"akash\",\"mayuri\"])\n",
    "data.count()"
   ]
  },
  {
   "cell_type": "code",
   "execution_count": 6,
   "metadata": {},
   "outputs": [
    {
     "name": "stdout",
     "output_type": "stream",
     "text": [
      "['scala', 'java', 'dewanshu', 'spark', 'python', 'rahul', 'varun', 'niharika', 'santoshi', 'akanksha', 'utkarsh', 'marvin', 'akash', 'mayuri']"
     ]
    }
   ],
   "source": [
    "print(data.collect(),end=\"\")"
   ]
  },
  {
   "cell_type": "code",
   "execution_count": 10,
   "metadata": {},
   "outputs": [
    {
     "name": "stdout",
     "output_type": "stream",
     "text": [
      "['dewanshu', 'python', 'niharika', 'santoshi', 'akanksha', 'utkarsh', 'marvin', 'mayuri']"
     ]
    }
   ],
   "source": [
    "words_filter = data.filter(lambda word: len(word) > 5)\n",
    "print(words_filter.collect(),end=\"\")"
   ]
  },
  {
   "cell_type": "code",
   "execution_count": 11,
   "metadata": {},
   "outputs": [
    {
     "data": {
      "text/plain": [
       "[('scala', 1),\n",
       " ('java', 1),\n",
       " ('dewanshu', 1),\n",
       " ('spark', 1),\n",
       " ('python', 1),\n",
       " ('rahul', 1),\n",
       " ('varun', 1),\n",
       " ('niharika', 1),\n",
       " ('santoshi', 1),\n",
       " ('akanksha', 1),\n",
       " ('utkarsh', 1),\n",
       " ('marvin', 1),\n",
       " ('akash', 1),\n",
       " ('mayuri', 1)]"
      ]
     },
     "execution_count": 11,
     "metadata": {},
     "output_type": "execute_result"
    }
   ],
   "source": [
    "word_map = data.map(lambda word: (word, 1))\n",
    "word_map.collect()"
   ]
  },
  {
   "cell_type": "code",
   "execution_count": 14,
   "metadata": {},
   "outputs": [],
   "source": [
    "from operator import add"
   ]
  },
  {
   "cell_type": "code",
   "execution_count": 15,
   "metadata": {},
   "outputs": [
    {
     "data": {
      "text/plain": [
       "15"
      ]
     },
     "execution_count": 15,
     "metadata": {},
     "output_type": "execute_result"
    }
   ],
   "source": [
    "nums = sc.parallelize([1, 2, 3, 4, 5])\n",
    "nums.reduce(add)"
   ]
  },
  {
   "cell_type": "code",
   "execution_count": 17,
   "metadata": {},
   "outputs": [
    {
     "data": {
      "text/plain": [
       "[('hadoop', (3, 4)), ('spark', (1, 2))]"
      ]
     },
     "execution_count": 17,
     "metadata": {},
     "output_type": "execute_result"
    }
   ],
   "source": [
    "x = sc.parallelize([(\"spark\", 1), (\"hadoop\", 3)])\n",
    "y = sc.parallelize([(\"spark\", 2), (\"hadoop\", 4)])\n",
    "joined = x.join(y)\n",
    "joined.collect()"
   ]
  },
  {
   "cell_type": "code",
   "execution_count": 19,
   "metadata": {},
   "outputs": [
    {
     "data": {
      "text/plain": [
       "True"
      ]
     },
     "execution_count": 19,
     "metadata": {},
     "output_type": "execute_result"
    }
   ],
   "source": [
    "data.cache()\n",
    "data.persist().is_cached"
   ]
  },
  {
   "cell_type": "code",
   "execution_count": null,
   "metadata": {},
   "outputs": [],
   "source": []
  }
 ],
 "metadata": {
  "kernelspec": {
   "display_name": "Python 3",
   "language": "python",
   "name": "python3"
  },
  "language_info": {
   "codemirror_mode": {
    "name": "ipython",
    "version": 3
   },
   "file_extension": ".py",
   "mimetype": "text/x-python",
   "name": "python",
   "nbconvert_exporter": "python",
   "pygments_lexer": "ipython3",
   "version": "3.7.6"
  }
 },
 "nbformat": 4,
 "nbformat_minor": 4
}
