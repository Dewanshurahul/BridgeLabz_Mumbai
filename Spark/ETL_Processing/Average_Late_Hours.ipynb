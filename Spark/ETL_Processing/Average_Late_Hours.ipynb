{
 "cells": [
  {
   "cell_type": "code",
   "execution_count": 1,
   "metadata": {},
   "outputs": [],
   "source": [
    "from pyspark.sql.functions import hour,minute,second,col,avg,when\n",
    "from pyspark import SparkContext\n",
    "import pyspark.sql.functions as sql_functions\n",
    "from pyspark.sql import SQLContext\n",
    "import datetime"
   ]
  },
  {
   "cell_type": "code",
   "execution_count": 2,
   "metadata": {},
   "outputs": [],
   "source": [
    "sc = SparkContext()\n",
    "sqlContext = SQLContext(sc)"
   ]
  },
  {
   "cell_type": "code",
   "execution_count": 4,
   "metadata": {},
   "outputs": [
    {
     "name": "stdout",
     "output_type": "stream",
     "text": [
      "+--------------------+-------------------+-------------------+-------------------+-------------------+\n",
      "|           user_name|          idle_time|      working_hours|         start_time|           end_time|\n",
      "+--------------------+-------------------+-------------------+-------------------+-------------------+\n",
      "|  sahil24c@gmail.com|2019-10-24 05:05:00|2019-10-24 05:50:00|2019-10-24 08:30:02|2019-10-24 19:25:02|\n",
      "|magadum.iranna@gm...|2019-10-24 02:15:00|2019-10-24 08:39:59|2019-10-24 08:30:02|2019-10-24 19:25:01|\n",
      "|  yathink3@gmail.com|2019-10-24 01:30:00|2019-10-24 09:24:59|2019-10-24 08:30:02|2019-10-24 19:25:01|\n",
      "|  shelkeva@gmail.com|2019-10-24 00:30:00|2019-10-24 09:10:01|2019-10-24 08:45:01|2019-10-24 18:25:02|\n",
      "|puruissimple@gmai...|2019-10-24 03:15:00|2019-10-24 07:19:59|2019-10-24 08:50:02|2019-10-24 19:25:01|\n",
      "|sangita.awaghad19...|2019-10-24 01:55:00|2019-10-24 08:40:00|2019-10-24 08:50:01|2019-10-24 19:25:01|\n",
      "|vaishusawant143@g...|2019-10-24 00:35:00|2019-10-24 09:55:00|2019-10-24 08:55:01|2019-10-24 19:25:01|\n",
      "|     you@example.com|2019-10-24 02:35:00|2019-10-24 08:04:59|2019-10-24 08:45:02|2019-10-24 19:25:01|\n",
      "|samadhanmahajan73...|2019-10-24 01:10:00|2019-10-24 08:39:59|2019-10-24 09:00:02|2019-10-24 18:50:01|\n",
      "|vishnu23kumar@gma...|2019-10-24 04:15:00|2019-10-24 06:10:00|2019-10-24 09:00:01|2019-10-24 19:25:01|\n",
      "|ashutoshrit64@gma...|2019-10-24 00:00:00|2019-10-24 10:25:01|2019-10-24 09:00:01|2019-10-24 19:25:02|\n",
      "|akshaybavalekar10...|2019-10-24 01:45:00|2019-10-24 08:35:00|2019-10-24 09:05:01|2019-10-24 19:25:01|\n",
      "|khairnarswapna99@...|2019-10-24 00:50:00|2019-10-24 09:25:00|2019-10-24 09:10:01|2019-10-24 19:25:01|\n",
      "|kukadeshilpaa7m95...|2019-10-24 00:35:00|2019-10-24 09:40:00|2019-10-24 09:10:01|2019-10-24 19:25:01|\n",
      "|sarikabarge111@gm...|2019-10-24 01:20:00|2019-10-24 08:45:00|2019-10-24 09:10:01|2019-10-24 19:15:01|\n",
      "|narsimharaj.kasu0...|2019-10-24 02:05:00|2019-10-24 08:05:00|2019-10-24 09:10:01|2019-10-24 19:20:01|\n",
      "|antonyalexcm@gmai...|2019-10-24 00:00:00|2019-10-24 10:15:00|2019-10-24 09:10:01|2019-10-24 19:25:01|\n",
      "|jitupatil937@gmai...|2019-10-24 00:55:00|2019-10-24 09:20:00|2019-10-24 09:10:01|2019-10-24 19:25:01|\n",
      "|akshaypatwari24@g...|2019-10-24 01:10:00|2019-10-24 09:05:00|2019-10-24 09:10:01|2019-10-24 19:25:01|\n",
      "|aheteshams007@gma...|2019-10-24 01:35:00|2019-10-24 08:50:01|2019-10-24 09:00:01|2019-10-24 19:25:02|\n",
      "+--------------------+-------------------+-------------------+-------------------+-------------------+\n",
      "only showing top 20 rows\n",
      "\n"
     ]
    }
   ],
   "source": [
    "df = sqlContext.read.csv(\"hdfs://localhost:54310/spark/usr_log_data.csv\",header=True,inferSchema = True)\n",
    "df.show()"
   ]
  },
  {
   "cell_type": "code",
   "execution_count": 7,
   "metadata": {},
   "outputs": [
    {
     "name": "stdout",
     "output_type": "stream",
     "text": [
      "+--------------------+-------------------+\n",
      "|           user_name|         start_time|\n",
      "+--------------------+-------------------+\n",
      "|  rr582619@gmail.con|2019-10-24 09:35:01|\n",
      "| addyp1911@gmail.com|2019-10-24 09:35:02|\n",
      "|rohitsarate1027@g...|2019-10-24 09:35:01|\n",
      "|dipakalagate1991@...|2019-10-24 09:35:01|\n",
      "|shibadattanayak@g...|2019-10-24 09:35:01|\n",
      "|durganath123@outl...|2019-10-24 09:40:02|\n",
      "|vaibhavkhadke@gma...|2019-10-24 09:45:02|\n",
      "|gaikwadr576@gmail...|2019-10-24 09:50:01|\n",
      "|kalyani24deobhank...|2019-10-24 09:50:01|\n",
      "|dilipsoni199566@g...|2019-10-24 09:50:01|\n",
      "|surajwarbhuvan192...|2019-10-24 09:55:01|\n",
      "|tekina.makin@gmai...|2019-10-24 09:50:01|\n",
      "|priyankagandhi250...|2019-10-24 09:45:01|\n",
      "|mishrasushil889@g...|2019-10-24 09:55:02|\n",
      "| blsonalib@gmail.com|2019-10-24 09:40:01|\n",
      "|manoj.ks.24.mk@gm...|2019-10-24 09:40:01|\n",
      "|hakepratiksha55@g...|2019-10-24 09:55:01|\n",
      "|vaibhavpratihar17...|2019-10-24 10:00:01|\n",
      "|rawatabhishek2012...|2019-10-24 10:00:01|\n",
      "|indrajeetgajbhiye...|2019-10-24 09:55:01|\n",
      "+--------------------+-------------------+\n",
      "only showing top 20 rows\n",
      "\n"
     ]
    }
   ],
   "source": [
    "late_hours = df.filter(sql_functions.col('start_time') > '2019-10-24 09:30:02').select('user_name','start_time')\n",
    "late_hours.show()"
   ]
  },
  {
   "cell_type": "code",
   "execution_count": 8,
   "metadata": {},
   "outputs": [
    {
     "data": {
      "text/plain": [
       "50"
      ]
     },
     "execution_count": 8,
     "metadata": {},
     "output_type": "execute_result"
    }
   ],
   "source": [
    "late_hours.count()"
   ]
  },
  {
   "cell_type": "code",
   "execution_count": 9,
   "metadata": {},
   "outputs": [
    {
     "name": "stdout",
     "output_type": "stream",
     "text": [
      "+--------------------+-------------------+-----+\n",
      "|           user_name|         start_time|hours|\n",
      "+--------------------+-------------------+-----+\n",
      "|  rr582619@gmail.con|2019-10-24 09:35:01|    9|\n",
      "| addyp1911@gmail.com|2019-10-24 09:35:02|    9|\n",
      "|rohitsarate1027@g...|2019-10-24 09:35:01|    9|\n",
      "|dipakalagate1991@...|2019-10-24 09:35:01|    9|\n",
      "|shibadattanayak@g...|2019-10-24 09:35:01|    9|\n",
      "+--------------------+-------------------+-----+\n",
      "only showing top 5 rows\n",
      "\n"
     ]
    }
   ],
   "source": [
    "df1 = late_hours.withColumn('hours', hour(late_hours['start_time']))\n",
    "df1.show(5)"
   ]
  },
  {
   "cell_type": "code",
   "execution_count": 10,
   "metadata": {},
   "outputs": [
    {
     "name": "stdout",
     "output_type": "stream",
     "text": [
      "+--------------------+-----+-----+\n",
      "|           user_name|hours|h_sec|\n",
      "+--------------------+-----+-----+\n",
      "|  rr582619@gmail.con|    9|32400|\n",
      "| addyp1911@gmail.com|    9|32400|\n",
      "|rohitsarate1027@g...|    9|32400|\n",
      "|dipakalagate1991@...|    9|32400|\n",
      "|shibadattanayak@g...|    9|32400|\n",
      "+--------------------+-----+-----+\n",
      "only showing top 5 rows\n",
      "\n"
     ]
    }
   ],
   "source": [
    "x = df1.select('user_name','hours')\n",
    "x = x.withColumn('h_sec', x['hours'] * 3600)\n",
    "x.show(5)"
   ]
  },
  {
   "cell_type": "code",
   "execution_count": 11,
   "metadata": {},
   "outputs": [
    {
     "name": "stdout",
     "output_type": "stream",
     "text": [
      "+--------------------+---+-----+\n",
      "|           user_name|min|m_sec|\n",
      "+--------------------+---+-----+\n",
      "|  rr582619@gmail.con| 35| 2100|\n",
      "| addyp1911@gmail.com| 35| 2100|\n",
      "|rohitsarate1027@g...| 35| 2100|\n",
      "|dipakalagate1991@...| 35| 2100|\n",
      "|shibadattanayak@g...| 35| 2100|\n",
      "+--------------------+---+-----+\n",
      "only showing top 5 rows\n",
      "\n"
     ]
    }
   ],
   "source": [
    "df2 = late_hours.withColumn('min', minute(late_hours['start_time']))\n",
    "y = df2.select('user_name','min')\n",
    "y = y.withColumn('m_sec', y['min'] * 60)\n",
    "y.show(5)"
   ]
  },
  {
   "cell_type": "code",
   "execution_count": 12,
   "metadata": {},
   "outputs": [
    {
     "name": "stdout",
     "output_type": "stream",
     "text": [
      "+--------------------+---+\n",
      "|           user_name|sec|\n",
      "+--------------------+---+\n",
      "|  rr582619@gmail.con|  1|\n",
      "| addyp1911@gmail.com|  2|\n",
      "|rohitsarate1027@g...|  1|\n",
      "|dipakalagate1991@...|  1|\n",
      "|shibadattanayak@g...|  1|\n",
      "+--------------------+---+\n",
      "only showing top 5 rows\n",
      "\n"
     ]
    }
   ],
   "source": [
    "df3 = late_hours.withColumn('sec', second(late_hours['start_time']))\n",
    "z = df3.select('user_name', 'sec')\n",
    "z.show(5)"
   ]
  },
  {
   "cell_type": "code",
   "execution_count": 13,
   "metadata": {},
   "outputs": [
    {
     "name": "stdout",
     "output_type": "stream",
     "text": [
      "+--------------------+-----+-----+---+-----+\n",
      "|           user_name|hours|h_sec|min|m_sec|\n",
      "+--------------------+-----+-----+---+-----+\n",
      "|  rr582619@gmail.con|    9|32400| 35| 2100|\n",
      "| addyp1911@gmail.com|    9|32400| 35| 2100|\n",
      "|rohitsarate1027@g...|    9|32400| 35| 2100|\n",
      "|dipakalagate1991@...|    9|32400| 35| 2100|\n",
      "|shibadattanayak@g...|    9|32400| 35| 2100|\n",
      "+--------------------+-----+-----+---+-----+\n",
      "only showing top 5 rows\n",
      "\n"
     ]
    }
   ],
   "source": [
    "df4 = x.join(y, on = ['user_name'], how = 'inner')\n",
    "df4.show(5)"
   ]
  },
  {
   "cell_type": "code",
   "execution_count": 14,
   "metadata": {},
   "outputs": [
    {
     "name": "stdout",
     "output_type": "stream",
     "text": [
      "+--------------------+-----+-----+---+-----+---+\n",
      "|           user_name|hours|h_sec|min|m_sec|sec|\n",
      "+--------------------+-----+-----+---+-----+---+\n",
      "|  rr582619@gmail.con|    9|32400| 35| 2100|  1|\n",
      "| addyp1911@gmail.com|    9|32400| 35| 2100|  2|\n",
      "|rohitsarate1027@g...|    9|32400| 35| 2100|  1|\n",
      "|dipakalagate1991@...|    9|32400| 35| 2100|  1|\n",
      "|shibadattanayak@g...|    9|32400| 35| 2100|  1|\n",
      "+--------------------+-----+-----+---+-----+---+\n",
      "only showing top 5 rows\n",
      "\n"
     ]
    }
   ],
   "source": [
    "df5 = df4.join(z, on = ['user_name'], how = 'inner') \n",
    "df5.show(5)"
   ]
  },
  {
   "cell_type": "code",
   "execution_count": 15,
   "metadata": {},
   "outputs": [
    {
     "name": "stdout",
     "output_type": "stream",
     "text": [
      "+--------------------+-----+-----+---+-----+---+----------------+\n",
      "|           user_name|hours|h_sec|min|m_sec|sec|        late_hrs|\n",
      "+--------------------+-----+-----+---+-----+---+----------------+\n",
      "|  rr582619@gmail.con|    9|32400| 35| 2100|  1|9.58361111111111|\n",
      "| addyp1911@gmail.com|    9|32400| 35| 2100|  2|9.58388888888889|\n",
      "|rohitsarate1027@g...|    9|32400| 35| 2100|  1|9.58361111111111|\n",
      "|dipakalagate1991@...|    9|32400| 35| 2100|  1|9.58361111111111|\n",
      "|shibadattanayak@g...|    9|32400| 35| 2100|  1|9.58361111111111|\n",
      "+--------------------+-----+-----+---+-----+---+----------------+\n",
      "only showing top 5 rows\n",
      "\n"
     ]
    }
   ],
   "source": [
    "df6 = df5.withColumn('late_hrs', (df5['h_sec'] + df5['m_sec'] + df5['sec'])/3600)\n",
    "df6.show(5)"
   ]
  },
  {
   "cell_type": "code",
   "execution_count": 16,
   "metadata": {},
   "outputs": [
    {
     "name": "stdout",
     "output_type": "stream",
     "text": [
      "+------------------+\n",
      "|     avg(late_hrs)|\n",
      "+------------------+\n",
      "|10.233694444444442|\n",
      "+------------------+\n",
      "\n"
     ]
    }
   ],
   "source": [
    "average_late_hours = df6.select(avg('late_hrs'))\n",
    "average_late_hours.show()"
   ]
  },
  {
   "cell_type": "code",
   "execution_count": null,
   "metadata": {},
   "outputs": [],
   "source": []
  },
  {
   "cell_type": "code",
   "execution_count": null,
   "metadata": {},
   "outputs": [],
   "source": []
  }
 ],
 "metadata": {
  "kernelspec": {
   "display_name": "Python 3",
   "language": "python",
   "name": "python3"
  },
  "language_info": {
   "codemirror_mode": {
    "name": "ipython",
    "version": 3
   },
   "file_extension": ".py",
   "mimetype": "text/x-python",
   "name": "python",
   "nbconvert_exporter": "python",
   "pygments_lexer": "ipython3",
   "version": "3.7.6"
  }
 },
 "nbformat": 4,
 "nbformat_minor": 4
}
